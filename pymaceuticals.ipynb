{
 "cells": [
  {
   "cell_type": "markdown",
   "metadata": {},
   "source": [
    "## Observations and Insights"
   ]
  },
  {
   "cell_type": "markdown",
   "metadata": {},
   "source": [
    "1. According to the scatter plot and linear regression model for the Capomulin regimen, it seems that as a mouse's weight increases, its tumor volume also increases. There is also a strong postive correlation between Weight and Average Tumor Volume with the correlation coefficient being 0.84.\n",
    "\n",
    "2. Of the four most promising treatment regimens, it appears that Capomolin and Ramicane were the most successful, accoridng to the boxplots. They seem to retain the smallest spread of tumor volumes as well as the smallest size of mouse tumors.\n",
    "\n",
    "3. The gender distribution of mice for this study appears to be almost equal with female mice occupying 49.8%\n",
    "   and males occupying 50.2%."
   ]
  },
  {
   "cell_type": "markdown",
   "metadata": {},
   "source": [
    "## Dependencies and starter code"
   ]
  },
  {
   "cell_type": "code",
   "execution_count": 171,
   "metadata": {},
   "outputs": [
    {
     "data": {
      "text/html": [
       "<div>\n",
       "<style scoped>\n",
       "    .dataframe tbody tr th:only-of-type {\n",
       "        vertical-align: middle;\n",
       "    }\n",
       "\n",
       "    .dataframe tbody tr th {\n",
       "        vertical-align: top;\n",
       "    }\n",
       "\n",
       "    .dataframe thead th {\n",
       "        text-align: right;\n",
       "    }\n",
       "</style>\n",
       "<table border=\"1\" class=\"dataframe\">\n",
       "  <thead>\n",
       "    <tr style=\"text-align: right;\">\n",
       "      <th></th>\n",
       "      <th>Mouse ID</th>\n",
       "      <th>Drug Regimen</th>\n",
       "      <th>Sex</th>\n",
       "      <th>Age_months</th>\n",
       "      <th>Weight (g)</th>\n",
       "      <th>Timepoint</th>\n",
       "      <th>Tumor Volume (mm3)</th>\n",
       "      <th>Metastatic Sites</th>\n",
       "    </tr>\n",
       "  </thead>\n",
       "  <tbody>\n",
       "    <tr>\n",
       "      <td>0</td>\n",
       "      <td>k403</td>\n",
       "      <td>Ramicane</td>\n",
       "      <td>Male</td>\n",
       "      <td>21</td>\n",
       "      <td>16</td>\n",
       "      <td>0</td>\n",
       "      <td>45.000000</td>\n",
       "      <td>0</td>\n",
       "    </tr>\n",
       "    <tr>\n",
       "      <td>1</td>\n",
       "      <td>k403</td>\n",
       "      <td>Ramicane</td>\n",
       "      <td>Male</td>\n",
       "      <td>21</td>\n",
       "      <td>16</td>\n",
       "      <td>5</td>\n",
       "      <td>38.825898</td>\n",
       "      <td>0</td>\n",
       "    </tr>\n",
       "    <tr>\n",
       "      <td>2</td>\n",
       "      <td>k403</td>\n",
       "      <td>Ramicane</td>\n",
       "      <td>Male</td>\n",
       "      <td>21</td>\n",
       "      <td>16</td>\n",
       "      <td>10</td>\n",
       "      <td>35.014271</td>\n",
       "      <td>1</td>\n",
       "    </tr>\n",
       "    <tr>\n",
       "      <td>3</td>\n",
       "      <td>k403</td>\n",
       "      <td>Ramicane</td>\n",
       "      <td>Male</td>\n",
       "      <td>21</td>\n",
       "      <td>16</td>\n",
       "      <td>15</td>\n",
       "      <td>34.223992</td>\n",
       "      <td>1</td>\n",
       "    </tr>\n",
       "    <tr>\n",
       "      <td>4</td>\n",
       "      <td>k403</td>\n",
       "      <td>Ramicane</td>\n",
       "      <td>Male</td>\n",
       "      <td>21</td>\n",
       "      <td>16</td>\n",
       "      <td>20</td>\n",
       "      <td>32.997729</td>\n",
       "      <td>1</td>\n",
       "    </tr>\n",
       "  </tbody>\n",
       "</table>\n",
       "</div>"
      ],
      "text/plain": [
       "  Mouse ID Drug Regimen   Sex  Age_months  Weight (g)  Timepoint  \\\n",
       "0     k403     Ramicane  Male          21          16          0   \n",
       "1     k403     Ramicane  Male          21          16          5   \n",
       "2     k403     Ramicane  Male          21          16         10   \n",
       "3     k403     Ramicane  Male          21          16         15   \n",
       "4     k403     Ramicane  Male          21          16         20   \n",
       "\n",
       "   Tumor Volume (mm3)  Metastatic Sites  \n",
       "0           45.000000                 0  \n",
       "1           38.825898                 0  \n",
       "2           35.014271                 1  \n",
       "3           34.223992                 1  \n",
       "4           32.997729                 1  "
      ]
     },
     "execution_count": 171,
     "metadata": {},
     "output_type": "execute_result"
    }
   ],
   "source": [
    "# Dependencies and Setup\n",
    "import matplotlib.pyplot as plt\n",
    "import pandas as pd\n",
    "import scipy.stats as sts\n",
    "import numpy as np\n",
    "from scipy.stats import sem\n",
    "from scipy.stats import linregress\n",
    "\n",
    "# Study data files\n",
    "mouse_metadata = \"data/Mouse_metadata.csv\"\n",
    "study_results = \"data/Study_results.csv\"\n",
    "\n",
    "# Read the mouse data and the study results\n",
    "mouse_metadata = pd.read_csv(mouse_metadata)\n",
    "study_results = pd.read_csv(study_results)\n",
    "\n",
    "# Combine the data into a single dataset\n",
    "combined_df = pd.merge(mouse_metadata, study_results, how = \"outer\", on = \"Mouse ID\")\n",
    "combined_df.head()"
   ]
  },
  {
   "cell_type": "markdown",
   "metadata": {},
   "source": [
    "## Summary statistics"
   ]
  },
  {
   "cell_type": "code",
   "execution_count": 172,
   "metadata": {},
   "outputs": [
    {
     "data": {
      "text/html": [
       "<div>\n",
       "<style scoped>\n",
       "    .dataframe tbody tr th:only-of-type {\n",
       "        vertical-align: middle;\n",
       "    }\n",
       "\n",
       "    .dataframe tbody tr th {\n",
       "        vertical-align: top;\n",
       "    }\n",
       "\n",
       "    .dataframe thead th {\n",
       "        text-align: right;\n",
       "    }\n",
       "</style>\n",
       "<table border=\"1\" class=\"dataframe\">\n",
       "  <thead>\n",
       "    <tr style=\"text-align: right;\">\n",
       "      <th></th>\n",
       "      <th>Mean</th>\n",
       "      <th>Median</th>\n",
       "      <th>Variance</th>\n",
       "      <th>Standard Deviation</th>\n",
       "      <th>SEM</th>\n",
       "    </tr>\n",
       "    <tr>\n",
       "      <th>Drug Regimen</th>\n",
       "      <th></th>\n",
       "      <th></th>\n",
       "      <th></th>\n",
       "      <th></th>\n",
       "      <th></th>\n",
       "    </tr>\n",
       "  </thead>\n",
       "  <tbody>\n",
       "    <tr>\n",
       "      <td>Capomulin</td>\n",
       "      <td>40.675741</td>\n",
       "      <td>41.557809</td>\n",
       "      <td>24.947764</td>\n",
       "      <td>4.994774</td>\n",
       "      <td>0.329346</td>\n",
       "    </tr>\n",
       "    <tr>\n",
       "      <td>Ceftamin</td>\n",
       "      <td>52.591172</td>\n",
       "      <td>51.776157</td>\n",
       "      <td>39.290177</td>\n",
       "      <td>6.268188</td>\n",
       "      <td>0.469821</td>\n",
       "    </tr>\n",
       "    <tr>\n",
       "      <td>Infubinol</td>\n",
       "      <td>52.884795</td>\n",
       "      <td>51.820584</td>\n",
       "      <td>43.128684</td>\n",
       "      <td>6.567243</td>\n",
       "      <td>0.492236</td>\n",
       "    </tr>\n",
       "    <tr>\n",
       "      <td>Ketapril</td>\n",
       "      <td>55.235638</td>\n",
       "      <td>53.698743</td>\n",
       "      <td>68.553577</td>\n",
       "      <td>8.279709</td>\n",
       "      <td>0.603860</td>\n",
       "    </tr>\n",
       "    <tr>\n",
       "      <td>Naftisol</td>\n",
       "      <td>54.331565</td>\n",
       "      <td>52.509285</td>\n",
       "      <td>66.173479</td>\n",
       "      <td>8.134708</td>\n",
       "      <td>0.596466</td>\n",
       "    </tr>\n",
       "    <tr>\n",
       "      <td>Placebo</td>\n",
       "      <td>54.033581</td>\n",
       "      <td>52.288934</td>\n",
       "      <td>61.168083</td>\n",
       "      <td>7.821003</td>\n",
       "      <td>0.581331</td>\n",
       "    </tr>\n",
       "    <tr>\n",
       "      <td>Propriva</td>\n",
       "      <td>52.322552</td>\n",
       "      <td>50.854632</td>\n",
       "      <td>42.351070</td>\n",
       "      <td>6.507770</td>\n",
       "      <td>0.512884</td>\n",
       "    </tr>\n",
       "    <tr>\n",
       "      <td>Ramicane</td>\n",
       "      <td>40.216745</td>\n",
       "      <td>40.673236</td>\n",
       "      <td>23.486704</td>\n",
       "      <td>4.846308</td>\n",
       "      <td>0.320955</td>\n",
       "    </tr>\n",
       "    <tr>\n",
       "      <td>Stelasyn</td>\n",
       "      <td>54.233149</td>\n",
       "      <td>52.431737</td>\n",
       "      <td>59.450562</td>\n",
       "      <td>7.710419</td>\n",
       "      <td>0.573111</td>\n",
       "    </tr>\n",
       "    <tr>\n",
       "      <td>Zoniferol</td>\n",
       "      <td>53.236507</td>\n",
       "      <td>51.818479</td>\n",
       "      <td>48.533355</td>\n",
       "      <td>6.966589</td>\n",
       "      <td>0.516398</td>\n",
       "    </tr>\n",
       "  </tbody>\n",
       "</table>\n",
       "</div>"
      ],
      "text/plain": [
       "                   Mean     Median   Variance  Standard Deviation       SEM\n",
       "Drug Regimen                                                               \n",
       "Capomulin     40.675741  41.557809  24.947764            4.994774  0.329346\n",
       "Ceftamin      52.591172  51.776157  39.290177            6.268188  0.469821\n",
       "Infubinol     52.884795  51.820584  43.128684            6.567243  0.492236\n",
       "Ketapril      55.235638  53.698743  68.553577            8.279709  0.603860\n",
       "Naftisol      54.331565  52.509285  66.173479            8.134708  0.596466\n",
       "Placebo       54.033581  52.288934  61.168083            7.821003  0.581331\n",
       "Propriva      52.322552  50.854632  42.351070            6.507770  0.512884\n",
       "Ramicane      40.216745  40.673236  23.486704            4.846308  0.320955\n",
       "Stelasyn      54.233149  52.431737  59.450562            7.710419  0.573111\n",
       "Zoniferol     53.236507  51.818479  48.533355            6.966589  0.516398"
      ]
     },
     "execution_count": 172,
     "metadata": {},
     "output_type": "execute_result"
    }
   ],
   "source": [
    "# Generate a summary statistics table of mean, median,\n",
    "# variance, standard deviation, and SEM of the tumor volume for each regimen\n",
    "mean = combined_df.groupby('Drug Regimen')['Tumor Volume (mm3)'].mean()\n",
    "med = combined_df.groupby('Drug Regimen')['Tumor Volume (mm3)'].median()\n",
    "var = combined_df.groupby('Drug Regimen')['Tumor Volume (mm3)'].var()\n",
    "stdev = combined_df.groupby('Drug Regimen')['Tumor Volume (mm3)'].std()\n",
    "sem = combined_df.groupby('Drug Regimen')['Tumor Volume (mm3)'].sem()\n",
    "\n",
    "# Summary stat data frame\n",
    "summary_stat = pd.DataFrame({\"Mean\": mean, \"Median\": med, \"Variance\": var, \"Standard Deviation\": stdev, \n",
    "                          \"SEM\": sem})\n",
    "summary_stat\n"
   ]
  },
  {
   "cell_type": "markdown",
   "metadata": {},
   "source": [
    "## Bar plots"
   ]
  },
  {
   "cell_type": "code",
   "execution_count": 192,
   "metadata": {},
   "outputs": [
    {
     "data": {
      "image/png": "[encoded data removed]",
      "text/plain": [
       "<Figure size 720x288 with 1 Axes>"
      ]
     },
     "metadata": {
      "needs_background": "light"
     },
     "output_type": "display_data"
    },
    {
     "data": {
      "text/plain": [
       "<Figure size 432x288 with 0 Axes>"
      ]
     },
     "metadata": {},
     "output_type": "display_data"
    }
   ],
   "source": [
    "# Generate a bar plot showing number of data points for each treatment regimen using pandas\n",
    "grouped_df = pd.DataFrame(combined_df.groupby([\"Drug Regimen\"]).count()).reset_index()\n",
    "\n",
    "# Filter df to include only required columns\n",
    "datapoints = grouped_df[[\"Drug Regimen\",\"Mouse ID\"]]\n",
    "\n",
    "# Set the index for Drug Regimen labels\n",
    "datapoints = datapoints.set_index(\"Drug Regimen\")\n",
    "\n",
    "\n",
    "# Use DataFrame.plot() in order to create a bar chart of the data\n",
    "datapoints.plot(kind=\"bar\", figsize=(10,4), ylim=(140,240), legend=False)\n",
    "\n",
    "# Chart title, labels, and show\n",
    "plt.title(\"Trial Count per Treatment Regimen\")\n",
    "plt.xlabel(\"Treatment Regimen\")\n",
    "plt.ylabel(\"Trial Count\")\n",
    "plt.show()\n",
    "plt.tight_layout()"
   ]
  },
  {
   "cell_type": "code",
   "execution_count": 202,
   "metadata": {},
   "outputs": [
    {
     "data": {
      "image/png": "[encoded data removed]",
      "text/plain": [
       "<Figure size 720x288 with 1 Axes>"
      ]
     },
     "metadata": {
      "needs_background": "light"
     },
     "output_type": "display_data"
    },
    {
     "data": {
      "text/plain": [
       "<Figure size 432x288 with 0 Axes>"
      ]
     },
     "metadata": {},
     "output_type": "display_data"
    }
   ],
   "source": [
    "# Generate a bar plot showing number of data points for each treatment regimen using pyplot\n",
    "# Set x axis and tick locations\n",
    "\n",
    "x_axis = np.arange(len(grouped_df))\n",
    "tick_locations = [value for value in x_axis]\n",
    "\n",
    "# Create a list indicating where to write x labels and set figure size to adjust for space\n",
    "plt.figure(figsize=(10,4))\n",
    "plt.bar(x_axis, grouped_df[\"Mouse ID\"], color = \"b\", alpha = .7, align = 'center')\n",
    "plt.xticks(tick_locations, grouped_df[\"Drug Regimen\"], rotation=\"vertical\")\n",
    "\n",
    "# plt.xticks( site2['Cl'], site2.index.values ) # location, labels\n",
    "# plt.plot( site2['Cl'] )\n",
    "# plt.show()\n",
    "\n",
    "# Set x and y limits\n",
    "plt.xlim(-0.75, len(x_axis)-0.25)\n",
    "plt.ylim(140, grouped_df['Mouse ID'].max()+10)\n",
    "\n",
    "# Chart title, labels, and show\n",
    "plt.title(\"Trial Count per Treatment Regimen\")\n",
    "plt.xlabel(\"Treatment Regimen\")\n",
    "plt.ylabel(\"Trial Count\")\n",
    "plt.show()\n",
    "plt.tight_layout()"
   ]
  },
  {
   "cell_type": "markdown",
   "metadata": {},
   "source": [
    "## Pie plots"
   ]
  },
  {
   "cell_type": "code",
   "execution_count": 205,
   "metadata": {},
   "outputs": [
    {
     "data": {
      "image/png": "[encoded data removed]",
      "text/plain": [
       "<Figure size 432x288 with 1 Axes>"
      ]
     },
     "metadata": {},
     "output_type": "display_data"
    }
   ],
   "source": [
    "# Generate a pie plot showing the distribution of female versus male mice using pandas\n",
    "# Mouse gender data frame\n",
    "gender_df=combined_df[['Mouse ID','Sex']].drop_duplicates()['Sex'].value_counts().to_frame()\n",
    "\n",
    "#extract index(which is male and female)\n",
    "gender = gender_df.keys()\n",
    "\n",
    "# Create a pie chart based on sex\n",
    "pie_chart = gender_df.plot(kind=\"pie\", y=gender,autopct='%1.1f%%', title=\"Mouse study by Sex\")\n",
    "\n"
   ]
  },
  {
   "cell_type": "code",
   "execution_count": 155,
   "metadata": {},
   "outputs": [
    {
     "data": {
      "image/png": "[encoded data removed]",
      "text/plain": [
       "<Figure size 432x288 with 1 Axes>"
      ]
     },
     "metadata": {},
     "output_type": "display_data"
    }
   ],
   "source": [
    "# Generate a pie plot showing the distribution of female versus male mice using pyplot\n",
    "\n",
    "# Where to separate sections\n",
    "explode = (0.1, 0)\n",
    "\n",
    "# Plot and format pie chart\n",
    "plt.pie(gender_df['Sex'], explode=explode, labels=gender_df.index, colors=colors,\n",
    "        autopct=\"%1.1f%%\", shadow=True, startangle=180)\n",
    "\n",
    "plt.title(\"Dsitribution of Female vs Male Mice\")\n",
    "\n",
    "plt.legend(loc='lower right')\n",
    "\n",
    "plt.show()"
   ]
  },
  {
   "cell_type": "markdown",
   "metadata": {},
   "source": [
    "## Quartiles, outliers and boxplots"
   ]
  },
  {
   "cell_type": "code",
   "execution_count": 156,
   "metadata": {},
   "outputs": [
    {
     "name": "stdout",
     "output_type": "stream",
     "text": [
      "There are zero outliers in the Capomulin treatment regimen.\n",
      "There are zero outliers in the Ramicane treatment regimen.\n",
      "There are 1 outliers in the Infubinol treatment regimen, which are \n",
      "    Mouse ID Drug Regimen  Tumor Volume (mm3)\n",
      "74     c326    Infubinol           36.321346 \n",
      "\n",
      "There are zero outliers in the Ceftamin treatment regimen.\n"
     ]
    }
   ],
   "source": [
    "# Calculate the final tumor volume of each mouse across four of the most promising treatment regimens.\n",
    "# Calculate the IQR and quantitatively determine if there are any potential outliers. \n",
    "\n",
    "tumor_volume = combined_df[['Mouse ID','Drug Regimen','Tumor Volume (mm3)']]\n",
    "\n",
    "# Grab the final tumor volume for each mouse\n",
    "final_volume_df = pd.DataFrame(columns=['Mouse ID', 'Drug Regimen', 'Tumor Volume (mm3)'])\n",
    "\n",
    "row_count = 0\n",
    "\n",
    "for i, row in tumor_volume.loc[1:len(combined_df),].iterrows():\n",
    "    if tumor_volume.loc[i-1]['Mouse ID'] != tumor_volume.loc[i]['Mouse ID']:\n",
    "         final_volume_df.loc[row_count]=tumor_volume.loc[i-1]\n",
    "         row_count+=1\n",
    "        \n",
    "# Add final mouse\n",
    "final_volume_df.loc[len(final_volume_df)]=tumor_volume.loc[len(tumor_volume)-1]\n",
    "\n",
    "\n",
    "\n",
    "# Capomulin data frame\n",
    "Capomulin_df = final_volume_df[final_volume_df['Drug Regimen']==\"Capomulin\"]\n",
    "\n",
    "# Ramicane data frame\n",
    "Ramicane_df = final_volume_df[final_volume_df['Drug Regimen']==\"Ramicane\"]\n",
    "\n",
    "# Infubinol data frame\n",
    "Infubinol_df = final_volume_df[final_volume_df['Drug Regimen']==\"Infubinol\"]\n",
    "\n",
    "# Ceftamin data frame\n",
    "Ceftamin_df = final_volume_df[final_volume_df['Drug Regimen']==\"Ceftamin\"]\n",
    "\n",
    "\n",
    "# Determine if there are any outliers\n",
    "\n",
    "# Outliers in Capomulin\n",
    "Capomulin_df_qt = Capomulin_df['Tumor Volume (mm3)'].quantile([.25,.5,.75])\n",
    "lowerq = Capomulin_df_qt[0.25]\n",
    "upperq = Capomulin_df_qt[0.75]\n",
    "iqr = upperq-lowerq\n",
    "\n",
    "lower_bound = round(lowerq - (1.5 * iqr), 2)\n",
    "upper_bound = round(upperq + (1.5 * iqr), 2) \n",
    "outliers = Capomulin_df[(Capomulin_df['Tumor Volume (mm3)'] < lower_bound) | (Capomulin_df['Tumor Volume (mm3)'] > upper_bound)]\n",
    "outlier_num = len(outliers)\n",
    "\n",
    "if outlier_num > 0:\n",
    "     print(f\"There are {outlier_num} outliers in the Capomulin treatment regimen, which are \\n {outliers} \\n\")\n",
    "else:\n",
    "     print(f\"There are zero outliers in the Capomulin treatment regimen.\")\n",
    "\n",
    "\n",
    "\n",
    "# Outliers in Ramicane\n",
    "Ramicane_df_qt = Ramicane_df['Tumor Volume (mm3)'].quantile([.25,.5,.75])\n",
    "lowerq = Ramicane_df_qt[0.25]\n",
    "upperq = Ramicane_df_qt[0.75]\n",
    "iqr = upperq-lowerq\n",
    "\n",
    "lower_bound = round(lowerq - (1.5 * iqr), 2)\n",
    "upper_bound = round(upperq + (1.5 * iqr), 2) \n",
    "outliers = Ramicane_df[(Ramicane_df['Tumor Volume (mm3)'] < lower_bound) | (Ramicane_df['Tumor Volume (mm3)'] > upper_bound)]\n",
    "outlier_num = len(outliers)\n",
    "\n",
    "if outlier_num > 0:\n",
    "     print(f\"There are {outlier_num} outliers in the Ramicane treatment regimen, which are \\n {outliers} \\n\")\n",
    "else:\n",
    "     print(f\"There are zero outliers in the Ramicane treatment regimen.\")\n",
    "\n",
    "\n",
    "\n",
    "\n",
    "# Outliers in Infubinol\n",
    "Infubinol_df_qt = Infubinol_df['Tumor Volume (mm3)'].quantile([.25,.5,.75])\n",
    "lowerq = Infubinol_df_qt[0.25]\n",
    "upperq = Infubinol_df_qt[0.75]\n",
    "iqr = upperq-lowerq\n",
    "\n",
    "lower_bound = round(lowerq - (1.5 * iqr), 2)\n",
    "upper_bound = round(upperq + (1.5 * iqr), 2) \n",
    "outliers = Infubinol_df[(Infubinol_df['Tumor Volume (mm3)'] < lower_bound) | (Infubinol_df['Tumor Volume (mm3)'] > upper_bound)]\n",
    "outlier_num = len(outliers)\n",
    "\n",
    "if outlier_num > 0:\n",
    "     print(f\"There are {outlier_num} outliers in the Infubinol treatment regimen, which are \\n {outliers} \\n\")\n",
    "else:\n",
    "     print(f\"There are zero outliers in the Infubinol treatment regimen.\")\n",
    "\n",
    "\n",
    "\n",
    "\n",
    "# Outliers in Ceftamin\n",
    "Ceftamin_df_qt = Ceftamin_df['Tumor Volume (mm3)'].quantile([.25,.5,.75])\n",
    "lowerq = Ceftamin_df_qt[0.25]\n",
    "upperq = Ceftamin_df_qt[0.75]\n",
    "iqr = upperq-lowerq\n",
    "\n",
    "lower_bound = round(lowerq - (1.5 * iqr), 2)\n",
    "upper_bound = round(upperq + (1.5 * iqr), 2) \n",
    "outliers = Ceftamin_df[(Ceftamin_df['Tumor Volume (mm3)'] < lower_bound) | (Ceftamin_df['Tumor Volume (mm3)'] > upper_bound)]\n",
    "outlier_num = len(outliers)\n",
    "\n",
    "if outlier_num > 0:\n",
    "     print(f\"There are {outlier_num} outliers in the Ceftamin treatment regimen, which are \\n {outliers} \\n\")\n",
    "else:\n",
    "     print(f\"There are zero outliers in the Ceftamin treatment regimen.\")\n"
   ]
  },
  {
   "cell_type": "code",
   "execution_count": 157,
   "metadata": {},
   "outputs": [
    {
     "data": {
      "image/png": "[encoded data removed]",
      "text/plain": [
       "<Figure size 720x576 with 1 Axes>"
      ]
     },
     "metadata": {
      "needs_background": "light"
     },
     "output_type": "display_data"
    }
   ],
   "source": [
    "# Generate a box plot of the final tumor volume of each mouse across four regimens of interest\n",
    "\n",
    "# Filter data frame to include only the four regimens of interest\n",
    "four_df = final_volume_df[(final_volume_df['Drug Regimen'] == \"Capomulin\") | (final_volume_df['Drug Regimen'] == \"Ramicane\") | \n",
    "            (final_volume_df['Drug Regimen'] == \"Infubinol\") | (final_volume_df['Drug Regimen'] == \"Ceftamin\")]\n",
    "\n",
    "# Create and format box plot\n",
    "fig1, ax1 = plt.subplots(figsize = (10,8))\n",
    "red_square = dict(markerfacecolor = 'r', marker = '*', markersize = 12)\n",
    "box_plot = four_df.boxplot(ax=ax1, column = 'Tumor Volume (mm3)', by = 'Drug Regimen', flierprops=red_square)\n",
    "ax1.set_ylabel('Tumor Volume (mm3)')\n",
    "plt.show()"
   ]
  },
  {
   "cell_type": "markdown",
   "metadata": {},
   "source": [
    "## Line and scatter plots"
   ]
  },
  {
   "cell_type": "code",
   "execution_count": 160,
   "metadata": {},
   "outputs": [
    {
     "data": {
      "text/plain": [
       "Text(0.5, 1.0, 'Time Point vs Tumor Volume for Single Mouse Treated with Capomulin')"
      ]
     },
     "execution_count": 160,
     "metadata": {},
     "output_type": "execute_result"
    },
    {
     "data": {
      "image/png": "[encoded data removed]",
      "text/plain": [
       "<Figure size 720x576 with 1 Axes>"
      ]
     },
     "metadata": {
      "needs_background": "light"
     },
     "output_type": "display_data"
    }
   ],
   "source": [
    "# Generate a line plot of time point versus tumor volume for a mouse treated with Capomulin\n",
    "\n",
    "# Create a new data frame for capomulin\n",
    "cap_df = combined_df.loc[combined_df[\"Drug Regimen\"] == \"Capomulin\"]\n",
    "cap_df = cap_df.reset_index()\n",
    "\n",
    "# Grab a single mouse's data\n",
    "single_df = cap_df.loc[cap_df[\"Mouse ID\"] == \"s185\"]\n",
    "\n",
    "# Filter data frame to included requirements\n",
    "single_df = single_df.loc[:, [\"Timepoint\", \"Tumor Volume (mm3)\"]]\n",
    "cap_df.index\n",
    "\n",
    "# Reset index\n",
    "single_df = single_df.reset_index(drop=True)\n",
    "\n",
    "# Create line plot\n",
    "single_df.set_index('Timepoint').plot(figsize=(10, 8), linewidth=2.5)\n",
    "plt.legend(['Tumor volume per time point'], loc=\"best\")\n",
    "plt.xlabel(\"Timepoint\")\n",
    "plt.ylabel(\" Tumor Volume (mm3)\")\n",
    "plt.grid()\n",
    "plt.title(\"Time Point vs Tumor Volume for Single Mouse Treated with Capomulin\")"
   ]
  },
  {
   "cell_type": "code",
   "execution_count": 162,
   "metadata": {},
   "outputs": [
    {
     "name": "stdout",
     "output_type": "stream",
     "text": [
      "The correlation coefficient between Weight and Average Tumor Volume is 0.84\n"
     ]
    },
    {
     "data": {
      "image/png": "[encoded data removed]",
      "text/plain": [
       "<Figure size 720x360 with 1 Axes>"
      ]
     },
     "metadata": {
      "needs_background": "light"
     },
     "output_type": "display_data"
    }
   ],
   "source": [
    "# Generate a scatter plot of mouse weight versus average tumor volume for the Capomulin regimen\n",
    "\n",
    "# Create new data frame for needed columns\n",
    "new_df=combined_df[[\"Mouse ID\",\"Drug Regimen\",\"Weight (g)\",\"Tumor Volume (mm3)\"]]\n",
    "\n",
    "# Create data frame for average tumor volume in the Capomulin regimen\n",
    "avg_cap=new_df[new_df['Drug Regimen']=='Capomulin'].groupby('Mouse ID').mean().reset_index()\n",
    "\n",
    "# Create and format scatter plot\n",
    "plt.figure(figsize = (10,5))\n",
    "scatter=plt.scatter(avg_cap[\"Weight (g)\"],avg_cap[\"Tumor Volume (mm3)\"], marker=\"o\", \n",
    "            facecolors=\"blue\", s = 30)\n",
    "plt.xlim(min(avg_cap[\"Weight (g)\"])-1, max(avg_cap[\"Weight (g)\"])+1)\n",
    "plt.ylim(min(avg_cap[\"Tumor Volume (mm3)\"]-1), max(avg_cap[\"Tumor Volume (mm3)\"])+1)\n",
    "plt.title(\"Mouse Weight vs Average Tumor volume for Capomulin Mouse\")\n",
    "plt.xlabel(\"Weight (g)\")\n",
    "plt.ylabel(\"Average Tumor Volume (mm3)\")\n",
    "plt.grid()\n",
    "\n",
    "# Calculate the correlation coefficient and linear regression model for mouse weight and\n",
    "# average tumor volume for the Capomulin regimen\n",
    "\n",
    "# Correlation Coefficient\n",
    "print(f\"The correlation coefficient between Weight and Average Tumor Volume is \\\n",
    "{round(st.pearsonr(avg_cap['Weight (g)'],avg_cap['Tumor Volume (mm3)'])[0], 2)}\")\n",
    "\n",
    "# Linear Regression Model (y=mx+b)\n",
    "(slope, intercept, rvalue, pvalue, stderr) = linregress(avg_cap['Weight (g)'], avg_cap['Tumor Volume (mm3)'])\n",
    "regress_values = avg_cap['Weight (g)'] * slope + intercept\n",
    "line_eq = \"y = \" + str(round(slope, 2)) + \"x + \" + str(round(intercept, 2))\n",
    "\n",
    "# Plot line\n",
    "linear_regression=plt.plot(avg_cap['Weight (g)'], regress_values, \"r-\")\n",
    "plt.annotate(line_eq, (21,38), fontsize=15, color=\"red\")\n",
    "plt.show()\n"
   ]
  },
  {
   "cell_type": "code",
   "execution_count": null,
   "metadata": {},
   "outputs": [],
   "source": []
  },
  {
   "cell_type": "code",
   "execution_count": null,
   "metadata": {},
   "outputs": [],
   "source": []
  }
 ],
 "metadata": {
  "anaconda-cloud": {},
  "kernelspec": {
   "display_name": "Python 3",
   "language": "python",
   "name": "python3"
  },
  "language_info": {
   "codemirror_mode": {
    "name": "ipython",
    "version": 3
   },
   "file_extension": ".py",
   "mimetype": "text/x-python",
   "name": "python",
   "nbconvert_exporter": "python",
   "pygments_lexer": "ipython3",
   "version": "3.7.4"
  }
 },
 "nbformat": 4,
 "nbformat_minor": 2
}
